{
 "cells": [
  {
   "cell_type": "markdown",
   "metadata": {},
   "source": [
    "## __Social Network Analysis Colloquium Assignment__\n",
    "## By Yoseph Zuskin, 1000841958, Feb 19th, 2020"
   ]
  },
  {
   "cell_type": "code",
   "execution_count": 1,
   "metadata": {},
   "outputs": [],
   "source": [
    "import networkx as nx\n",
    "import numpy as np\n",
    "import matplotlib.pyplot as plt\n",
    "%matplotlib inline\n",
    "from matplotlib.collections import PatchCollection\n",
    "from matplotlib import style\n",
    "style.use('ggplot')"
   ]
  },
  {
   "cell_type": "markdown",
   "metadata": {},
   "source": [
    "#### In this Notebook are several functions that demonstrate the famous PageRank algorithm once used by Google. A series of custom functions will be defined to perform the steps needed to process a directed network into the transition matrix and initial vector used in the algorithm. An additional custom function is defined to visualize the network to help demonstrate the directional adjacencies of network nodes."
   ]
  },
  {
   "cell_type": "code",
   "execution_count": 2,
   "metadata": {},
   "outputs": [],
   "source": [
    "# custom function to generate a toy network based on a given edgelist\n",
    "def create_toy_network(edgelist):\n",
    "    \"\"\"\n",
    "    Create Toy Network\n",
    "    custom function, given in the assignment, slighly modified to accept any edgelist\n",
    "    and to handle common errors which could arise from invalid edgelist input\n",
    "    \n",
    "    Parameters:\n",
    "    edgelist (list of tuples): list of all edges in the toy network\n",
    "    \n",
    "    Returns:\n",
    "    G (DiGraph): networkx directed graph class object based on toy edgelist\n",
    "    \"\"\"\n",
    "    G=nx.DiGraph()\n",
    "    if len(edgelist[0])==2:\n",
    "        try:\n",
    "            G.add_edges_from(edgelist)\n",
    "            return G\n",
    "        except ValueError as error:\n",
    "            print(error)\n",
    "            print('please ensure all elements in the edgelist have 2 elements in all or 3 elements in all')\n",
    "    elif len(edgelist[0])==3:\n",
    "        try:\n",
    "            G.add_weighted_edges_from(edgelist)\n",
    "            return G\n",
    "        except ValueError as error:\n",
    "            print(error)\n",
    "            print('please ensure all elements in the edgelist have 2 elements in all or 3 elements in all')\n",
    "    else:\n",
    "        raise ValueError('all elements in the input edgelist must all contain either 2 or 3 elements')"
   ]
  },
  {
   "cell_type": "code",
   "execution_count": 3,
   "metadata": {},
   "outputs": [],
   "source": [
    "# custom function to visualize the toy network\n",
    "def visualize_toy_network(G,color_map=plt.cm.CMRmap,node_color='grey',\n",
    "                          arrow_size=10,label_color='red',label_size=18):\n",
    "    \"\"\"\n",
    "    Visualize Toy Network, adapted from online sources specified below\n",
    "    visualize the toy network using the steps outlined in the following networkx documentation link:\n",
    "    https://networkx.github.io/documentation/stable/auto_examples/drawing/plot_directed.html\n",
    "    Author: Rodrigo Dorantes-Gilardi (rodgdor@gmail.com)\n",
    "    added labels to the visualization using the steps outlined in the following documentation link:\n",
    "    https://networkx.github.io/documentation/stable/auto_examples/drawing/plot_labels_and_colors.html\n",
    "    Author: Aric Hagberg (hagberg@lanl.gov)\n",
    "    \"\"\"\n",
    "    pos = nx.layout.spring_layout(G)\n",
    "\n",
    "    node_sizes = [3 + 10 * i for i in range(len(G))]\n",
    "    M = G.number_of_edges()\n",
    "    edge_colors = range(2, M + 2)\n",
    "    edge_alphas = [(5 + i) / (M + 4) for i in range(M)]\n",
    "    \n",
    "    node_labels={}\n",
    "    for node in list(G.nodes):\n",
    "        node_labels[node] = r'$'+str(node)+r'$'\n",
    "\n",
    "    nodes = nx.draw_networkx_nodes(G, pos, node_size=node_sizes, node_color=node_color)\n",
    "    labels = nx.draw_networkx_labels(G, pos, labels=node_labels,\n",
    "                                     font_size=label_size, font_color=label_color)\n",
    "    edges = nx.draw_networkx_edges(G, pos, node_size=node_sizes, arrowstyle='->',\n",
    "                                   arrowsize=arrow_size, edge_color=edge_colors,\n",
    "                                   edge_cmap=color_map, width=2)\n",
    "    \n",
    "    # set alpha value for each edge\n",
    "    for i in range(M):\n",
    "        edges[i].set_alpha(edge_alphas[i])\n",
    "\n",
    "    pc = PatchCollection(edges, cmap=color_map)\n",
    "    pc.set_array(edge_colors)\n",
    "    plt.colorbar(pc)\n",
    "\n",
    "    ax = plt.gca()\n",
    "    ax.set_axis_off()\n",
    "    plt.show()"
   ]
  },
  {
   "cell_type": "code",
   "execution_count": 4,
   "metadata": {},
   "outputs": [],
   "source": [
    "def sequence(G):\n",
    "    \"\"\"\n",
    "    Sequence\n",
    "    custom function to return the ordinal sequence dictionary for the input netowrkx graph\n",
    "    \n",
    "    Parameters:\n",
    "    G (netowrkx.DiGraph): directed network graph object from the networkx package\n",
    "    \n",
    "    Returns:\n",
    "    nodes_dict (dict): dictionary of node keys paired with ordinal index values\n",
    "    nodes_list (list): list of index values representing ordinal sequence of nodes\n",
    "    \"\"\"\n",
    "    nodes_dict = dict() # initiate empty dictionary to populate sequence into\n",
    "    nodes_list = sorted(G.nodes) # define list of nodes in the input networkx DiGraph\n",
    "    output_list = list() # initate empty list to store the new ordinal sequence\n",
    "    for i in range(len(nodes_list)): # iterate over all nodes in the input networkx DiGraph\n",
    "        nodes_dict[nodes_list[i]] = i # append the updates ordinal sequence to the dictionary\n",
    "    for node in list(G.nodes): # iterate over all nodes in the input networkx DiGraph\n",
    "        output_list.append(nodes_dict[node]) # append new index to output list\n",
    "    return nodes_dict, output_list # return both sequence dictionary and sequence list"
   ]
  },
  {
   "cell_type": "code",
   "execution_count": 5,
   "metadata": {},
   "outputs": [],
   "source": [
    "def create_transition_matrix(G,d=0.85,has_weight=False):\n",
    "    \"\"\"\n",
    "    Create Transition Matrix\n",
    "    custom function that returns a transition matrix of the toy network, with the\n",
    "    rows following ordinal sequence based on numbers rather than edgelist ordering\n",
    "    \n",
    "    Parameters:\n",
    "    G (networkx.DiGraph): directed network graph object from the networkx package\n",
    "    d (float): dampening factor between 0.0 and 1.0 range\n",
    "    has_weight (binary): toggle as true for weighted G inputs\n",
    "    \n",
    "    Returns:\n",
    "    transition_matrix (numpy.matrix): transition matrix arranged by ordinal node sequence\n",
    "    \"\"\"\n",
    "    \n",
    "    # first retrieve nodes dictionary and ordinal sequence list\n",
    "    nodes_dict, nodes_order = sequence(G)\n",
    "    inv_nodes_dict = {v: k for k, v in nodes_dict.items()}\n",
    "    order = G.order() # define networkx DiGraph order\n",
    "    nodes_list = sorted(G.nodes) # define list of nodes\n",
    "    adjacency = dict(G.adjacency()) # define adjacencies\n",
    "    transition_matrix = list() # initiate output list\n",
    "    for node in nodes_list: # iterate over all nodes\n",
    "        node_vector = list() # initiate vector list\n",
    "        # define the edge connections of each node by ordinal sequnce index\n",
    "        neighbor_indices = [nodes_dict[n] for n in G.neighbors(node)]\n",
    "        edge_count = len(neighbor_indices) # determine how many edges exist per node\n",
    "        for i in range(order): # iterate over the length of vector list\n",
    "            if i in neighbor_indices: # check if an edge exists toward a neighbor node\n",
    "                if has_weight: # scale edge probability by weight if weighted\n",
    "                    sum_weights = sum([w['weight'] for w in list(adjacency[node].values())])\n",
    "                    node_vector.append(adjacency[node][inv_nodes_dict[i]]['weight']/sum_weights)\n",
    "                else: # else calculate edge probability without any weights\n",
    "                    node_vector.append(1/edge_count) # append edge probability here\n",
    "            elif edge_count == 0: # if no edges exist\n",
    "                node_vector.append(1/order) # append probability over order\n",
    "            else: # else append a zero as no edge exists towards this node\n",
    "                node_vector.append(0)\n",
    "        transition_matrix.append(node_vector) # append vector to output list\n",
    "    # transform the output list in a transition (numpy) matrix\n",
    "    transition_matrix = np.matrix(transition_matrix).T\n",
    "    # apply dampening factor to the transition matrix\n",
    "    transition_matrix = d*transition_matrix+(1-d)*np.repeat(1/order,order)\n",
    "    return transition_matrix"
   ]
  },
  {
   "cell_type": "code",
   "execution_count": 6,
   "metadata": {},
   "outputs": [],
   "source": [
    "def create_initial_vector(G):\n",
    "    \"\"\"\n",
    "    Create Initial Vector\n",
    "    custom function to generate the initial vector in the pagerank algorithm\n",
    "    \n",
    "    Parameters:\n",
    "    G (networkx.DiGraph):  directed network graph object from the networkx package\n",
    "    \n",
    "    Returns:\n",
    "    initial_vector (numpy.matrix): initial vector in the pagerank algorithm\n",
    "    \"\"\"\n",
    "    \n",
    "    initial_vector = np.empty(G.order())\n",
    "    initial_vector.fill(1/G.order())\n",
    "    initial_vector=np.matrix(np.array([initial_vector]).T)\n",
    "    \n",
    "    return initial_vector"
   ]
  },
  {
   "cell_type": "code",
   "execution_count": 7,
   "metadata": {},
   "outputs": [],
   "source": [
    "def pagerank(G,d=0.85,has_weight=False,max_iter=1000,verbose=False):\n",
    "    \"\"\"\n",
    "    Pagerank\n",
    "    custom function to replicate the pagerank algorithm which google initially used\n",
    "    \n",
    "    Parameters:\n",
    "    G (networkx.DiGraph): directed network graph object from the networkx package\n",
    "    d (float): dampening factor between 0.0 and 1.0 range\n",
    "    has_weight (binary): toggle as true for weighted G inputs\n",
    "    max_iter (integer): maximum number of iterations to cap the loop for large sparse networks\n",
    "    verbose (binary): optional setting to print the number of iterations to convergence\n",
    "    \n",
    "    Returns:\n",
    "    page_rank_dict (dictionary): pagerank results, sorted by nodes' ordinal sequence\n",
    "    \"\"\"\n",
    "\n",
    "    # initiate output dictionary instance\n",
    "    page_rank_dict = dict()\n",
    "    \n",
    "    # define ordinal sequence of nodes\n",
    "    nodes_dict, nodes_order = sequence(G)\n",
    "\n",
    "    # transistion matrix\n",
    "    transition_matrix = create_transition_matrix(G, d, has_weight)\n",
    "    \n",
    "    # initial vector\n",
    "    initial_vector = create_initial_vector(G)\n",
    "\n",
    "    # iterate until convergence or max_iter\n",
    "    new_vector = transition_matrix * initial_vector\n",
    "    for i in range(1,max_iter):\n",
    "        # update vector to pageranks for current iteration\n",
    "        updated_vector = transition_matrix * new_vector\n",
    "        # check if current iteration is unchanged from previous\n",
    "        if all(updated_vector == new_vector):\n",
    "            if verbose: # check if option to print when convergence occurs is toggled\n",
    "                print('Convergence achieved on iternation #{}'.format(i-1))\n",
    "            break # stop if convergence is reached\n",
    "        else: # otherwise update the pagerank vector\n",
    "            new_vector = updated_vector\n",
    "\n",
    "    # populate output dictionary\n",
    "    for node,rank in zip(list(nodes_dict.keys()),new_vector.tolist()):\n",
    "        page_rank_dict[node] = rank[0]\n",
    "        \n",
    "    return page_rank_dict"
   ]
  },
  {
   "cell_type": "markdown",
   "metadata": {},
   "source": [
    "#### Now let's test out the custom pagerank function and compare it to the one in the networkx library"
   ]
  },
  {
   "cell_type": "code",
   "execution_count": 8,
   "metadata": {},
   "outputs": [],
   "source": [
    "# define the toy edgelist given in the assignment\n",
    "toy_edgelist=[('9','7'),\n",
    "              ('8','7'),\n",
    "              ('8','6'),\n",
    "              ('8','5'),\n",
    "              ('7','6'),\n",
    "              ('7','5'),\n",
    "              ('6','5'),\n",
    "              ('6','4'),\n",
    "              ('5','4'),\n",
    "              ('4','3'),\n",
    "              ('4','1'),\n",
    "              ('8','7'),\n",
    "              ('3','2'),\n",
    "              ('3','1'),\n",
    "              ('2','1')]"
   ]
  },
  {
   "cell_type": "code",
   "execution_count": 9,
   "metadata": {},
   "outputs": [
    {
     "data": {
      "image/png": "[encoded data removed]",
      "text/plain": [
       "<Figure size 432x288 with 2 Axes>"
      ]
     },
     "metadata": {
      "needs_background": "light"
     },
     "output_type": "display_data"
    }
   ],
   "source": [
    "# visualize the toy network given in the assignment\n",
    "visualize_toy_network(create_toy_network(toy_edgelist))"
   ]
  },
  {
   "cell_type": "code",
   "execution_count": 10,
   "metadata": {},
   "outputs": [
    {
     "data": {
      "text/plain": [
       "{'1': 0.2413094655318948,\n",
       " '2': 0.0888916753462409,\n",
       " '3': 0.11631687121936145,\n",
       " '4': 0.18084674386199803,\n",
       " '5': 0.12313544859720683,\n",
       " '6': 0.0864108411208469,\n",
       " '7': 0.08417494416642621,\n",
       " '8': 0.03945700507801229,\n",
       " '9': 0.03945700507801229}"
      ]
     },
     "execution_count": 10,
     "metadata": {},
     "output_type": "execute_result"
    }
   ],
   "source": [
    "# test the custom pagerank function\n",
    "pagerank(create_toy_network(toy_edgelist),d=0.85,has_weight=False,max_iter=500,verbose=False)"
   ]
  },
  {
   "cell_type": "code",
   "execution_count": 11,
   "metadata": {},
   "outputs": [
    {
     "data": {
      "text/plain": [
       "{'9': 0.03945700507801233,\n",
       " '7': 0.08417494416642629,\n",
       " '8': 0.039457005078012336,\n",
       " '6': 0.08641084112084689,\n",
       " '5': 0.12313544859720699,\n",
       " '4': 0.18084674386199803,\n",
       " '3': 0.11631687121936148,\n",
       " '1': 0.24130946553189464,\n",
       " '2': 0.08889167534624104}"
      ]
     },
     "execution_count": 11,
     "metadata": {},
     "output_type": "execute_result"
    }
   ],
   "source": [
    "# compare the custom output to the networkx pagerank function's results\n",
    "nx.pagerank_numpy(create_toy_network(toy_edgelist),alpha=0.85)"
   ]
  },
  {
   "cell_type": "markdown",
   "metadata": {},
   "source": [
    "#### The custom PageRank algorithm function demonstrated in this notebook is successfully returning nearly the same values as the netowrkx equivalent, with the additional advantages of showing the output dictionary in the sorted sequence of the nodes, rather than order by which they appear on the edgelist, and having the option to print the number of iterations required to achieve converges"
   ]
  }
 ],
 "metadata": {
  "kernelspec": {
   "display_name": "Python 3",
   "language": "python",
   "name": "python3"
  },
  "language_info": {
   "codemirror_mode": {
    "name": "ipython",
    "version": 3
   },
   "file_extension": ".py",
   "mimetype": "text/x-python",
   "name": "python",
   "nbconvert_exporter": "python",
   "pygments_lexer": "ipython3",
   "version": "3.7.6"
  }
 },
 "nbformat": 4,
 "nbformat_minor": 4
}
